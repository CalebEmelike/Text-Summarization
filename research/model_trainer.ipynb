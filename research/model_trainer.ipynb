{
 "cells": [
  {
   "cell_type": "code",
   "execution_count": 1,
   "metadata": {},
   "outputs": [],
   "source": [
    "import os"
   ]
  },
  {
   "cell_type": "code",
   "execution_count": 2,
   "metadata": {},
   "outputs": [],
   "source": [
    "from sklearn.utils.class_weight import compute_class_weight"
   ]
  },
  {
   "cell_type": "code",
   "execution_count": 3,
   "metadata": {},
   "outputs": [
    {
     "data": {
      "text/plain": [
       "'/Users/CalebE/Documents/Text-Summarization/research'"
      ]
     },
     "execution_count": 3,
     "metadata": {},
     "output_type": "execute_result"
    }
   ],
   "source": [
    "%pwd"
   ]
  },
  {
   "cell_type": "code",
   "execution_count": 4,
   "metadata": {},
   "outputs": [],
   "source": [
    "os.chdir(\"../\")"
   ]
  },
  {
   "cell_type": "code",
   "execution_count": 5,
   "metadata": {},
   "outputs": [
    {
     "data": {
      "text/plain": [
       "'/Users/CalebE/Documents/Text-Summarization'"
      ]
     },
     "execution_count": 5,
     "metadata": {},
     "output_type": "execute_result"
    }
   ],
   "source": [
    "%pwd"
   ]
  },
  {
   "cell_type": "code",
   "execution_count": 5,
   "metadata": {},
   "outputs": [],
   "source": [
    "# TrainingParams:\n",
    "#   model_type: 'roberta'\n",
    "#   model_name: 'roberta-base'\n",
    "#   n_epochs: 4\n",
    "#   train_batch_size: 16\n",
    "#   eval_batch_size: 16\n",
    "#   lr: 3e-5\n",
    "#   class_weights: None\n",
    "#   reprocess_input_data: True\n",
    "#   overwrite_output_dir: True\n",
    "#   fp16: False\n",
    "#   # use_cuda: True\n",
    "#   do_lower_case: False\n",
    "#   manual_seed: 2\n",
    "#   use_multiprocessing: False\n",
    "#   use_multiprocessing_for_evaluation: False\n",
    "#   thread_count: 1\n",
    "#   save_eval_checkpoints: False\n",
    "#   save_model_every_epoch: False\n",
    "#   # use_early_stopping: True\n",
    "#   early_stopping_patience: 2\n",
    "#   early_stopping_metric: 'eval_loss'\n",
    "#   early_stopping_metric_minimize: True\n"
   ]
  },
  {
   "cell_type": "code",
   "execution_count": 6,
   "metadata": {},
   "outputs": [],
   "source": [
    "from dataclasses import dataclass\n",
    "from pathlib import Path\n",
    "\n",
    "\n",
    "@dataclass(frozen=True)\n",
    "class ModelTrainerConfig:\n",
    "    root_dir: Path\n",
    "    data_path: Path\n",
    "    output_dir: Path\n",
    "    model_type: str\n",
    "    model_name: str\n",
    "    n_epochs: int\n",
    "    train_batch_size: int\n",
    "    eval_batch_size: int\n",
    "    lr: float\n",
    "    class_weights: None\n",
    "    reprocess_input_data: bool\n",
    "    overwrite_output_dir: bool\n",
    "    fp16: bool\n",
    "    do_lower_case: bool\n",
    "    manual_seed: int\n",
    "    use_multiprocessing: bool\n",
    "    use_multiprocessing_for_evaluation: bool\n",
    "    thread_count: int\n",
    "    save_eval_checkpoints: bool\n",
    "    save_model_every_epoch: bool\n",
    "    early_stopping_metric: str\n",
    "    early_stopping_metric_minimize: bool\n",
    "    early_stopping_patience: int\n",
    "    use_cuda: bool"
   ]
  },
  {
   "cell_type": "code",
   "execution_count": 7,
   "metadata": {},
   "outputs": [],
   "source": [
    "from textSummarizer.constants import *\n",
    "from textSummarizer.utils.common import read_yaml, create_directories\n",
    "import warnings\n",
    "warnings.filterwarnings(\"ignore\")\n",
    "\n",
    "\n",
    "class ConfigurationManager:\n",
    "    def __init__(\n",
    "        self,\n",
    "        config_filepath = CONFIG_FILE_PATH,\n",
    "        params_filepath = PARAMS_FILE_PATH):\n",
    "\n",
    "        self.config = read_yaml(config_filepath)\n",
    "        self.params = read_yaml(params_filepath)\n",
    "\n",
    "        create_directories([self.config.artifacts_root])\n",
    "        \n",
    "    def get_model_trainer_config(self) -> ModelTrainerConfig:\n",
    "        config = self.config.model_trainer\n",
    "        params = self.params.TrainingParams\n",
    "        \n",
    "        create_directories([config.root_dir])\n",
    "        \n",
    "        model_trainer_config = ModelTrainerConfig(\n",
    "            root_dir = config.root_dir,\n",
    "            data_path = config.data_path,\n",
    "            output_dir = config.output_dir,\n",
    "            model_type = params.model_type,\n",
    "            model_name = params.model_name,\n",
    "            n_epochs = params.n_epochs,\n",
    "            train_batch_size = params.train_batch_size,\n",
    "            eval_batch_size = params.eval_batch_size,\n",
    "            lr = params.lr,\n",
    "            class_weights = params.class_weights,\n",
    "            reprocess_input_data = params.reprocess_input_data,\n",
    "            overwrite_output_dir = params.overwrite_output_dir,\n",
    "            fp16 = params.fp16,\n",
    "            do_lower_case = params.do_lower_case,\n",
    "            manual_seed = params.manual_seed,\n",
    "            use_multiprocessing = params.use_multiprocessing,\n",
    "            use_multiprocessing_for_evaluation = params.use_multiprocessing_for_evaluation,\n",
    "            thread_count = params.thread_count,\n",
    "            save_eval_checkpoints = params.save_eval_checkpoints,\n",
    "            save_model_every_epoch = params.save_model_every_epoch,\n",
    "            early_stopping_metric = params.early_stopping_metric,\n",
    "            early_stopping_metric_minimize = params.early_stopping_metric_minimize,\n",
    "            early_stopping_patience = params.early_stopping_patience,\n",
    "            use_cuda = params.use_cuda\n",
    "        )\n",
    "        \n",
    "        return model_trainer_config"
   ]
  },
  {
   "cell_type": "code",
   "execution_count": 8,
   "metadata": {},
   "outputs": [],
   "source": [
    "# Class that loads the data and preprocesses it in this format tmp = pd.DataFrame() tmp['text'] = train_filtered['text_short'] tmp['labels'] = train_filtered['label']\n",
    "\n",
    "import pandas as pd\n",
    "\n",
    "class DataLoaders:\n",
    "    def __init__(self, config: ModelTrainerConfig):\n",
    "        self.config = config\n",
    "        \n",
    "    def load_data(self):\n",
    "        data = pd.read_csv(self.config.data_path)\n",
    "        return data\n",
    "    \n",
    "    def preprocess_data(self, data):\n",
    "        tmp = pd.DataFrame()\n",
    "        tmp['text'] = data['text_short']\n",
    "        tmp['labels'] = data['label']\n",
    "        tmp['labels'] = tmp['labels'].map({'NOT': 0, 'TIN': 1, 'UNT': 2})\n",
    "        # Sample sizes for each class\n",
    "        # Filter by category and sample\n",
    "        not_samples = tmp[tmp['labels'] == 0].sample(n=200, random_state=100)  # 'NOT' class\n",
    "        tin_samples = tmp[tmp['labels'] == 1].sample(n=200, random_state=100)  # 'TIN' class\n",
    "        unt_samples = tmp[tmp['labels'] == 2].sample(n=100, random_state=100)  \n",
    "  \n",
    "        # Concatenate the samples\n",
    "        balanced_sample = pd.concat([not_samples, tin_samples, unt_samples]).reset_index(drop=True)\n",
    "\n",
    "        return balanced_sample\n",
    "    \n",
    "    def load_and_preprocess_data(self):\n",
    "        data = self.load_data()\n",
    "        data = self.preprocess_data(data)\n",
    "        return data\n",
    "\n"
   ]
  },
  {
   "cell_type": "code",
   "execution_count": 11,
   "metadata": {},
   "outputs": [],
   "source": [
    "from simpletransformers.classification import ClassificationModel\n",
    "import torch\n",
    "\n",
    "class ModelTrainer:\n",
    "    def __init__(self, config: ModelTrainerConfig, data_loader: DataLoaders):\n",
    "        self.config = config\n",
    "        self.model = None\n",
    "        self.data_loader = data_loader\n",
    "        \n",
    "    def train_model(self):\n",
    "        train_df = self.data_loader.load_and_preprocess_data()\n",
    "        class_weights = compute_class_weight('balanced', classes=train_df['labels'].unique(), y=train_df['labels'])\n",
    "        class_weights_dict = {i: weight for i, weight in enumerate(class_weights)}\n",
    "        device = \"cuda\" if torch.cuda.is_available() else \"cpu\"\n",
    "        self.model = ClassificationModel(\n",
    "            self.config.model_type,\n",
    "            self.config.model_name,\n",
    "            num_labels=3,\n",
    "            use_cuda = True if device == \"cuda\" else False,\n",
    "            args={\n",
    "                'output_dir': f\"{self.config.output_dir}/outputs\",\n",
    "                'cache_dir': f\"{self.config.output_dir}/cache\",\n",
    "                'tensorboard_dir': f\"{self.config.output_dir}/runs\",\n",
    "                'reprocess_input_data': self.config.reprocess_input_data,\n",
    "                'overwrite_output_dir': self.config.overwrite_output_dir,\n",
    "                'fp16': self.config.fp16,\n",
    "                'weight': class_weights_dict,\n",
    "                'do_lower_case': self.config.do_lower_case,\n",
    "                'manual_seed': self.config.manual_seed,\n",
    "                'use_multiprocessing': self.config.use_multiprocessing,\n",
    "                'use_multiprocessing_for_evaluation': self.config.use_multiprocessing_for_evaluation,\n",
    "                'thread_count': self.config.thread_count,\n",
    "                'save_eval_checkpoints': self.config.save_eval_checkpoints,\n",
    "                'save_model_every_epoch': self.config.save_model_every_epoch,\n",
    "                'early_stopping_metric': self.config.early_stopping_metric,\n",
    "                'early_stopping_metric_minimize': self.config.early_stopping_metric_minimize,\n",
    "                'early_stopping_patience': self.config.early_stopping_patience,\n",
    "                \n",
    "            }\n",
    "        )\n",
    "        \n",
    "        self.model.train_model(train_df)\n",
    "        \n",
    "    def evaluate_model(self, eval_df):\n",
    "        result, model_outputs, wrong_predictions = self.model.eval_model(eval_df)\n",
    "        return result, model_outputs, wrong_predictions\n",
    "    \n",
    "    def predict(self, data):\n",
    "        predictions, raw_outputs = self.model.predict(data['text'])\n",
    "        return predictions, raw_outputs"
   ]
  },
  {
   "cell_type": "code",
   "execution_count": 13,
   "metadata": {},
   "outputs": [],
   "source": [
    "# try:\n",
    "#     config_manager = ConfigurationManager()\n",
    "#     config = config_manager.get_model_trainer_config()\n",
    "#     data_loader = DataLoaders(config)\n",
    "#     model_trainer = ModelTrainer(config, data_loader)\n",
    "#     model_trainer.train_model()\n",
    "# except Exception as e:\n",
    "#     raise e"
   ]
  },
  {
   "cell_type": "code",
   "execution_count": null,
   "metadata": {},
   "outputs": [],
   "source": []
  }
 ],
 "metadata": {
  "kernelspec": {
   "display_name": "textS",
   "language": "python",
   "name": "python3"
  },
  "language_info": {
   "codemirror_mode": {
    "name": "ipython",
    "version": 3
   },
   "file_extension": ".py",
   "mimetype": "text/x-python",
   "name": "python",
   "nbconvert_exporter": "python",
   "pygments_lexer": "ipython3",
   "version": "3.11.7"
  }
 },
 "nbformat": 4,
 "nbformat_minor": 2
}
